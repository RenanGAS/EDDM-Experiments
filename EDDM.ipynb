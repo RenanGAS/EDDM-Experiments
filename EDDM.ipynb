{
 "cells": [
  {
   "cell_type": "code",
   "execution_count": 51,
   "id": "4e8b28de-a9a1-4076-950a-94e935ef4f61",
   "metadata": {},
   "outputs": [],
   "source": [
    "import numpy as np\n",
    "\n",
    "from sklearn.model_selection import train_test_split\n",
    "\n",
    "from frouros.detectors.concept_drift import EDDM\n",
    "from frouros.datasets.real import Elec2"
   ]
  },
  {
   "cell_type": "code",
   "execution_count": 52,
   "id": "6ed54c1c-1973-4975-b2c6-2ba331768bc7",
   "metadata": {},
   "outputs": [
    {
     "name": "stderr",
     "output_type": "stream",
     "text": [
      "INFO:frouros:Trying to download data from https://nextcloud.ifca.es/index.php/s/2coqgBEpa82boLS/download to /tmp/tmpqbgxidt4\n"
     ]
    }
   ],
   "source": [
    "elec2 = Elec2()\n",
    "elec2.download()"
   ]
  },
  {
   "cell_type": "code",
   "execution_count": 53,
   "id": "123bf0ac-9066-4839-a343-e929cb6de731",
   "metadata": {},
   "outputs": [
    {
     "name": "stdout",
     "output_type": "stream",
     "text": [
      "[(0.    , b'2', 0.      , 0.056443, 0.439155, 0.003467, 0.422915, 0.414912, b'UP')\n",
      " (0.    , b'2', 0.021277, 0.051699, 0.415055, 0.003467, 0.422915, 0.414912, b'UP')\n",
      " (0.    , b'2', 0.042553, 0.051489, 0.385004, 0.003467, 0.422915, 0.414912, b'UP')\n",
      " ...\n",
      " (0.9158, b'7', 0.957447, 0.043593, 0.34097 , 0.002983, 0.247799, 0.362281, b'DOWN')\n",
      " (0.9158, b'7', 0.978723, 0.066651, 0.329366, 0.00463 , 0.345417, 0.206579, b'UP')\n",
      " (0.9158, b'7', 1.      , 0.050679, 0.288753, 0.003542, 0.355256, 0.23114 , b'DOWN')]\n",
      "45312\n"
     ]
    }
   ],
   "source": [
    "elec2_dataset = elec2.load()\n",
    "print(elec2_dataset)\n",
    "print(elec2_dataset.size)"
   ]
  },
  {
   "cell_type": "code",
   "execution_count": null,
   "id": "187368cf-5f08-4910-8114-250b20b25c94",
   "metadata": {},
   "outputs": [],
   "source": [
    "array = value.tolist()\n",
    "x = array[0:-1]\n",
    "y = array[-1]\n",
    "\n",
    "X_train, X_test, y_train, y_test = train_test_split(X, y, test_size=0.8, random_state=42)\n",
    "elec2_dataset[0:100]"
   ]
  },
  {
   "cell_type": "code",
   "execution_count": null,
   "id": "fc3b64f2-4c5a-45c4-bb8c-36bdea8738d9",
   "metadata": {},
   "outputs": [],
   "source": [
    "detector = EDDM()\n",
    "warning_flag = False"
   ]
  },
  {
   "cell_type": "code",
   "execution_count": null,
   "id": "36aee619-f13b-4503-94e5-777c57d525a1",
   "metadata": {},
   "outputs": [],
   "source": [
    "for i, value in enumerate(elec2_dataset):\n",
    "    _ = detector.update(value=value)\n",
    "    if detector.drift:\n",
    "        print(f\"Change detected at step {i}\")\n",
    "        break\n",
    "    if not warning_flag and detector.warning:\n",
    "        print(f\"Warning detected at step {i}\")\n",
    "        warning_flag = True"
   ]
  },
  {
   "cell_type": "code",
   "execution_count": null,
   "id": "6b4a0cfa-a043-4b70-ae6f-c09a31cc04af",
   "metadata": {},
   "outputs": [],
   "source": []
  }
 ],
 "metadata": {
  "kernelspec": {
   "display_name": "Python 3 (ipykernel)",
   "language": "python",
   "name": "python3"
  },
  "language_info": {
   "codemirror_mode": {
    "name": "ipython",
    "version": 3
   },
   "file_extension": ".py",
   "mimetype": "text/x-python",
   "name": "python",
   "nbconvert_exporter": "python",
   "pygments_lexer": "ipython3",
   "version": "3.10.9"
  }
 },
 "nbformat": 4,
 "nbformat_minor": 5
}
